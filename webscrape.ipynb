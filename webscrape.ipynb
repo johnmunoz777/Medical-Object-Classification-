{
 "cells": [
  {
   "cell_type": "code",
   "execution_count": null,
   "id": "77ffbb47",
   "metadata": {},
   "outputs": [],
   "source": [
    "from simple_image_download import simple_image_download as simp\n"
   ]
  },
  {
   "cell_type": "code",
   "execution_count": null,
   "id": "cf8dc347",
   "metadata": {},
   "outputs": [],
   "source": [
    "response = simp.simple_image_download\n",
    "response().download('doctor wearing face mask', 100)"
   ]
  },
  {
   "cell_type": "code",
   "execution_count": null,
   "id": "3a283365",
   "metadata": {},
   "outputs": [],
   "source": [
    "from bing_image_downloader.downloader import download\n",
    "query=\"doctor wearing facemask\"\n",
    "download(query,limit=100,output_dir=\"simple_images\",adult_filter_off=True,force_replace=False,timeout=60,verbose=True)"
   ]
  },
  {
   "cell_type": "code",
   "execution_count": 1,
   "id": "55692113",
   "metadata": {},
   "outputs": [],
   "source": [
    "from pygoogle_image import image as pi\n",
    "\n"
   ]
  },
  {
   "cell_type": "code",
   "execution_count": null,
   "id": "a1b60d36",
   "metadata": {},
   "outputs": [],
   "source": [
    "pi.download(keywords=\"facemask\",limit=1000)"
   ]
  },
  {
   "cell_type": "code",
   "execution_count": null,
   "id": "dc110424",
   "metadata": {},
   "outputs": [],
   "source": [
    "pwd"
   ]
  },
  {
   "cell_type": "code",
   "execution_count": null,
   "id": "d82ce23b",
   "metadata": {},
   "outputs": [],
   "source": [
    "import os\n",
    "os.getcwd()"
   ]
  },
  {
   "cell_type": "code",
   "execution_count": null,
   "id": "5b38b92a",
   "metadata": {},
   "outputs": [],
   "source": [
    "pi.download(keywords=\"doctor wearing facemask\",limit=1000)\n",
    "pi.download(keywords=\"nurse wearing facemask\",limit=1000)\n",
    "pi.download(keywords=\"face shield\",limit=1000)\n",
    "pi.download(keywords=\"glasses\",limit=1000)\n",
    "pi.download(keywords=\"medical glasses\",limit=1000)\n",
    "pi.download(keywords=\"doctor wearing glasses\",limit=1000)\n",
    "pi.download(keywords=\"gloves\",limit=1000)\n",
    "pi.download(keywords=\"doctor wear gloves\",limit=1000)\n",
    "pi.download(keywords=\"medical gloves\",limit=1000)\n",
    "pi.download(keywords=\"hairnet\",limit=1000)\n",
    "pi.download(keywords=\"surgical hair net\",limit=1000)\n",
    "pi.download(keywords=\"doctor wearing hairnet\",limit=1000)\n",
    "pi.download(keywords=\"hospital bed\",limit=1000)\n",
    "pi.download(keywords=\"operating room bed\",limit=1000)\n",
    "pi.download(keywords=\"operating room lights\",limit=1000)\n",
    "pi.download(keywords=\"medical lights\",limit=1000)\n",
    "pi.download(keywords=\"medical instrument\",limit=1000)\n",
    "pi.download(keywords=\"medical scissors\",limit=1000)\n",
    "pi.download(keywords=\"monitor\",limit=1000)\n",
    "pi.download(keywords=\"hospital monitor\",limit=1000)\n",
    "pi.download(keywords=\"operating room monitor\",limit=1000)\n",
    "pi.download(keywords=\"scrubs\",limit=1000)\n",
    "pi.download(keywords=\"medical scrubs\",limit=1000)\n",
    "pi.download(keywords=\"doctor wearing scrubs\",limit=1000)"
   ]
  },
  {
   "cell_type": "code",
   "execution_count": null,
   "id": "01b9c949",
   "metadata": {},
   "outputs": [],
   "source": [
    "!conda info --envs"
   ]
  },
  {
   "cell_type": "code",
   "execution_count": null,
   "id": "6a09f8b4",
   "metadata": {},
   "outputs": [],
   "source": [
    "import sys\n",
    "sys.executable"
   ]
  },
  {
   "cell_type": "code",
   "execution_count": null,
   "id": "db2744d8",
   "metadata": {},
   "outputs": [],
   "source": [
    " 'gloves', 'hairnet', 'hospital bed', 'lights', 'medical instrument', 'monitor', 'scrubs']"
   ]
  },
  {
   "cell_type": "code",
   "execution_count": null,
   "id": "e0a5802d",
   "metadata": {},
   "outputs": [],
   "source": [
    "from pygoogle_image import image as pi\n",
    "import time\n",
    "\n",
    "\n",
    "\n",
    "# Define the search queries\n",
    "search_queries = [\n",
    "    \"doctor wearing facemask\",\n",
    "    \"nurse wearing facemask\",\n",
    "    \"buy facemask\",\n",
    "    \"face shield\",\n",
    "    \"glasses\",\n",
    "    \"medical glasses\",\n",
    "    \"doctor wearing glasses\",\n",
    "    \"gloves\",\n",
    "    \"doctor wear gloves\",\n",
    "    \"medical gloves\",\n",
    "    \"hairnet\",\n",
    "    \"surgical hair net\",\n",
    "    \"doctor wearing hairnet\",\n",
    "    \"hospital bed\",\n",
    "    \"operating room bed\",\n",
    "    \"operating room lights\",\n",
    "    \"medical lights\",\n",
    "    \"medical instrument\",\n",
    "    \"medical scissors\",\n",
    "    \"monitor\",\n",
    "    \"hospital monitor\",\n",
    "    \"operating room monitor\",\n",
    "    \"scrubs\",\n",
    "    \"medical scrubs\",\n",
    "    \"doctor wearing scrubs\",\n",
    "]\n",
    "\n",
    "# Download images with a delay between each query\n",
    "for query in search_queries:\n",
    "    pi.download(keywords=query, limit=1000)\n",
    "    # Add a delay of 30 seconds\n",
    "    print(f\"Waiting for 30 seconds before the next query...\")\n",
    "    time.sleep(45)\n",
    "\n",
    "print(\"Image downloads complete.\")"
   ]
  },
  {
   "cell_type": "code",
   "execution_count": null,
   "id": "e8a5a0cf",
   "metadata": {},
   "outputs": [],
   "source": [
    "pi.download(keywords=\"medical scrubs\",limit=100)"
   ]
  },
  {
   "cell_type": "code",
   "execution_count": null,
   "id": "09451c15",
   "metadata": {},
   "outputs": [],
   "source": [
    "pi.download(keywords=\"v neck scrubs\",limit=100)"
   ]
  },
  {
   "cell_type": "code",
   "execution_count": null,
   "id": "00552514",
   "metadata": {},
   "outputs": [],
   "source": [
    "pi.download(keywords=\"surgeon wearing harinet\",limit=100)"
   ]
  },
  {
   "cell_type": "code",
   "execution_count": null,
   "id": "edfb9416",
   "metadata": {},
   "outputs": [],
   "source": [
    "pi.download(keywords=\"suregeon operating harinet\",limit=100)"
   ]
  },
  {
   "cell_type": "code",
   "execution_count": null,
   "id": "211c381c",
   "metadata": {},
   "outputs": [],
   "source": [
    "pi.download(keywords=\"medical gloves\",limit=200)"
   ]
  },
  {
   "cell_type": "code",
   "execution_count": null,
   "id": "6b8aa8f8",
   "metadata": {},
   "outputs": [],
   "source": [
    "pi.download(keywords=\"gloves operating room\",limit=100)"
   ]
  },
  {
   "cell_type": "code",
   "execution_count": 2,
   "id": "47c5b484",
   "metadata": {},
   "outputs": [
    {
     "name": "stderr",
     "output_type": "stream",
     "text": [
      "[========================================================================] 100%\n"
     ]
    }
   ],
   "source": [
    "pi.download(keywords=\"glasses from store\",limit=100)"
   ]
  },
  {
   "cell_type": "code",
   "execution_count": 3,
   "id": "fc74bf4f",
   "metadata": {},
   "outputs": [
    {
     "name": "stderr",
     "output_type": "stream",
     "text": [
      "[========================================================================] 100%\n"
     ]
    }
   ],
   "source": [
    "pi.download(keywords=\"person wearing glasses\",limit=100)"
   ]
  },
  {
   "cell_type": "code",
   "execution_count": 4,
   "id": "4e3b19b5",
   "metadata": {},
   "outputs": [
    {
     "name": "stderr",
     "output_type": "stream",
     "text": [
      "[========================================================================] 100%\n"
     ]
    }
   ],
   "source": [
    "pi.download(keywords=\"doctor wearing face mask \",limit=100)"
   ]
  },
  {
   "cell_type": "code",
   "execution_count": 6,
   "id": "5638a24e",
   "metadata": {},
   "outputs": [
    {
     "data": {
      "text/plain": [
       "'C:\\\\Users\\\\johnm'"
      ]
     },
     "execution_count": 6,
     "metadata": {},
     "output_type": "execute_result"
    }
   ],
   "source": [
    "pwd"
   ]
  },
  {
   "cell_type": "code",
   "execution_count": null,
   "id": "5706b67d",
   "metadata": {},
   "outputs": [],
   "source": []
  }
 ],
 "metadata": {
  "kernelspec": {
   "display_name": "opencv_course",
   "language": "python",
   "name": "opencv_course"
  },
  "language_info": {
   "codemirror_mode": {
    "name": "ipython",
    "version": 3
   },
   "file_extension": ".py",
   "mimetype": "text/x-python",
   "name": "python",
   "nbconvert_exporter": "python",
   "pygments_lexer": "ipython3",
   "version": "3.11.3"
  }
 },
 "nbformat": 4,
 "nbformat_minor": 5
}
